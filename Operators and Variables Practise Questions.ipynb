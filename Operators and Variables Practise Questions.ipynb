{
  "nbformat": 4,
  "nbformat_minor": 0,
  "metadata": {
    "colab": {
      "name": "W2D1_Coding_assignment.ipynb",
      "provenance": [],
      "collapsed_sections": []
    },
    "kernelspec": {
      "name": "python3",
      "display_name": "Python 3"
    },
    "language_info": {
      "name": "python"
    }
  },
  "cells": [
    {
      "cell_type": "markdown",
      "source": [
        "##This set of questions will help in understanding operators and variables in Python"
      ],
      "metadata": {
        "id": "A5NMQFdjNJRy"
      }
    },
    {
      "cell_type": "markdown",
      "metadata": {
        "id": "SMvbfueLozjy"
      },
      "source": [
        "# **Question 1**"
      ]
    },
    {
      "cell_type": "markdown",
      "metadata": {
        "id": "2fJJVp-8o17A"
      },
      "source": [
        "A travel company wants to fly a plane to the Bahamas. Flying the plane costs 5000 dollars. So far, 29 people have signed up for the trip. If the company charges 200 dollars per ticket, what is the profit made by the company?\n",
        "\n",
        "Fill in values or arithmetic expressions for the variables below."
      ]
    },
    {
      "cell_type": "code",
      "metadata": {
        "id": "0YciB17Do5Cn",
        "colab": {
          "base_uri": "https://localhost:8080/"
        },
        "outputId": "9b412ce5-d46d-46ed-8e6f-3ce2828595fd"
      },
      "source": [
        "cost_of_flying_plane = 5000\n",
        "number_of_passengers = 29\n",
        "price_of_ticket = 200\n",
        "profit = (number_of_passengers * price_of_ticket) - cost_of_flying_plane\n",
        "print(profit)"
      ],
      "execution_count": null,
      "outputs": [
        {
          "output_type": "stream",
          "name": "stdout",
          "text": [
            "800\n"
          ]
        }
      ]
    },
    {
      "cell_type": "markdown",
      "metadata": {
        "id": "XJt5mgGykSC5"
      },
      "source": [
        "# **Question 2**"
      ]
    },
    {
      "cell_type": "markdown",
      "metadata": {
        "id": "LRwkUgOFkUjX"
      },
      "source": [
        "Suppose you have $100, which you can invest with a 10% return each year. After one year, it's  100 X 1.1 = 110 dollars, and after two years it's 100 X 1.1 X 1.1 = 121. \n",
        "\n",
        "Add code to calculate how much money you end up with after 10 years, and print the result."
      ]
    },
    {
      "cell_type": "code",
      "metadata": {
        "id": "iwFpJePYvAYz",
        "colab": {
          "base_uri": "https://localhost:8080/"
        },
        "outputId": "dc804e7f-aad4-4c97-9de9-9acd5d1431ca"
      },
      "source": [
        "initial_amount = 100\n",
        "interest_rate = 1.1\n",
        "\n",
        "result = 100*(1.1**10)\n",
        "print(result)"
      ],
      "execution_count": null,
      "outputs": [
        {
          "output_type": "stream",
          "name": "stdout",
          "text": [
            "259.3742460100002\n"
          ]
        }
      ]
    },
    {
      "cell_type": "markdown",
      "metadata": {
        "id": "MipVbbhiq9gi"
      },
      "source": [
        "# **Question 3**"
      ]
    },
    {
      "cell_type": "markdown",
      "metadata": {
        "id": "z-CoPIwirADw"
      },
      "source": [
        "The user is employable if his age is between 20 and 60.  \n",
        "\n",
        "Given the user's age\n",
        "\n",
        "Write an expression that evaluates the condition of his employability\n"
      ]
    },
    {
      "cell_type": "code",
      "metadata": {
        "id": "eFb-tQoGslLK"
      },
      "source": [
        "age = 39  # take the age value as 39"
      ],
      "execution_count": null,
      "outputs": []
    },
    {
      "cell_type": "markdown",
      "metadata": {
        "id": "slWchO6KscS-"
      },
      "source": [
        "Save the expression you have written above in a variable, employability and print to check the output."
      ]
    },
    {
      "cell_type": "code",
      "metadata": {
        "id": "cQ21TPA7sgcN",
        "colab": {
          "base_uri": "https://localhost:8080/"
        },
        "outputId": "29591ade-d724-47fc-f7d0-3307c68c8ca4"
      },
      "source": [
        "n=int(input(\"enter a number\"))\n",
        "if n>19 & n<61:\n",
        "  print(\"User is employable\")"
      ],
      "execution_count": null,
      "outputs": [
        {
          "output_type": "stream",
          "name": "stdout",
          "text": [
            "enter a number25\n",
            "User is employable\n"
          ]
        }
      ]
    },
    {
      "cell_type": "markdown",
      "metadata": {
        "id": "NFow-B3Mjq4n"
      },
      "source": [
        "# **Question 4**"
      ]
    },
    {
      "cell_type": "markdown",
      "metadata": {
        "id": "669QHD_yjtxX"
      },
      "source": [
        "Given a number in a variable num\n",
        "\n",
        "Write an expression that evaluates to True when num is equal to 5 or 6 or 7."
      ]
    },
    {
      "cell_type": "code",
      "metadata": {
        "id": "fTIXHoOUkDqf",
        "colab": {
          "base_uri": "https://localhost:8080/"
        },
        "outputId": "0a04ecc9-2ff1-4629-da81-2a067f5c0089"
      },
      "source": [
        "#check for 7\n",
        "num = 7\n",
        "(num== 5 or 6 or 7)<10"
      ],
      "execution_count": null,
      "outputs": [
        {
          "output_type": "execute_result",
          "data": {
            "text/plain": [
              "True"
            ]
          },
          "metadata": {},
          "execution_count": 28
        }
      ]
    },
    {
      "cell_type": "code",
      "metadata": {
        "id": "lSeisnihoTMy",
        "colab": {
          "base_uri": "https://localhost:8080/"
        },
        "outputId": "66f9794f-372c-404f-8a69-b1fd206ae229"
      },
      "source": [
        "# check for 9\n",
        "num = 9\n",
        "(num== 5 or 6 or 7)>10"
      ],
      "execution_count": null,
      "outputs": [
        {
          "output_type": "execute_result",
          "data": {
            "text/plain": [
              "False"
            ]
          },
          "metadata": {},
          "execution_count": 31
        }
      ]
    },
    {
      "cell_type": "markdown",
      "metadata": {
        "collapsed": "true",
        "id": "eiK8lcEHmiiQ"
      },
      "source": [
        "# **Question 5**"
      ]
    },
    {
      "cell_type": "markdown",
      "metadata": {
        "id": "VJpuXvPVmiiQ"
      },
      "source": [
        "Given a five digit number in a variable 'num'. Print the digits at it ones, tens , hundreds, thousands and ten thousands place digit in the five digit number. \n",
        "\n",
        "For eg. when num = 59682\n",
        "\n",
        "then the final output should look like.\n",
        "\n",
        "Digit at ones place - 2<br>\n",
        "Digit at tens place - 8<br>\n",
        "Digit at hundreds place - 6<br>\n",
        "Digit at thousands place - 9<br>\n",
        "Digit at ten thousands place - 5<br>\n",
        "\n",
        "Write the code only for five digits."
      ]
    },
    {
      "cell_type": "code",
      "metadata": {
        "id": "1QBFbV0q1Tq-",
        "colab": {
          "base_uri": "https://localhost:8080/"
        },
        "outputId": "2fbc73fc-f5c1-4405-9aa4-14355f21c520"
      },
      "source": [
        "num = 59682\n",
        "\n",
        "print(\"Digit at ones place: \", 59682%10)\n",
        "print(\"Digit at tens place: \", 5968%10)\n",
        "print(\"Digit at hundreds place: \", 596%10)\n",
        "print(\"Digit at thousands place: \", 59%10)\n",
        "print(\"Digit at ten thousands place: \", 5%10)\n",
        "\n"
      ],
      "execution_count": null,
      "outputs": [
        {
          "output_type": "stream",
          "name": "stdout",
          "text": [
            "Digit at ones place:  2\n",
            "Digit at tens place:  8\n",
            "Digit at hundreds place:  6\n",
            "Digit at thousands place:  9\n",
            "Digit at ten thousands place:  5\n"
          ]
        }
      ]
    },
    {
      "cell_type": "code",
      "metadata": {
        "id": "jmw6ozJzqZAi"
      },
      "source": [
        ""
      ],
      "execution_count": null,
      "outputs": []
    }
  ]
}